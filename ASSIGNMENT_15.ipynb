{
 "cells": [
  {
   "cell_type": "markdown",
   "id": "951de32e",
   "metadata": {},
   "source": [
    "1 . Recognize the differences between supervised, semi-supervised, and unsupervised learning."
   ]
  },
  {
   "cell_type": "markdown",
   "id": "1049e883",
   "metadata": {},
   "source": [
    "__Ans:__ The differences between supervised, semi-supervised, and unsupervised learning are:\n",
    "\n",
    "   + __Supervised learning__ aims to learn a function that, given a sample of data and desired outputs, approximates a function that maps inputs to outputs.\n",
    "\n",
    "   + __Semi-supervised learning__ aims to label unlabeled data points using knowledge learned from a small number of labeled data points.\n",
    "\n",
    "   + __Unsupervised learning__ does not have (or need) any labeled outputs, so its goal is to infer the natural structure present within a set of data points."
   ]
  },
  {
   "cell_type": "markdown",
   "id": "1fa707e0",
   "metadata": {},
   "source": [
    "2 . Describe in detail any five examples of classification problems."
   ]
  },
  {
   "cell_type": "markdown",
   "id": "91a3d63c",
   "metadata": {},
   "source": [
    "__Ans:__ 5 Examples of Classification Problems :\n",
    "\n",
    "   + __Logistic regression:__ Logistic regression is a supervised learning classification algorithm used to predict the probability of a target variable. ... It is one of the simplest ML algorithms that can be used for various classification problems such as spam detection, Diabetes prediction, cancer detection etc.\n",
    "\n",
    "   + __Decision trees:__ Decision Trees are a type of Supervised Machine Learning (that is you explain what the input is and what the corresponding output is in the training data) where the data is continuously split according to a certain parameter. The tree can be explained by two entities, namely decision nodes and leaves.\n",
    "\n",
    "   + __Random forest:__ Random forest is a Supervised Machine Learning Algorithm that is used widely in Classification and Regression problems. It builds decision trees on different samples and takes their majority vote for classification and average in case of regression. It performs better results for classification problems.\n",
    "\n",
    "   + __XGBoost:__ XGBoost is an algorithm that has recently been dominating applied machine learning and Kaggle competitions for structured or tabular data. XGBoost is an implementation of gradient boosted decision trees designed for speed and performance.Why XGBoost must be a part of your machine learning toolkit.\n",
    "\n",
    "   + __Light GBM:__ Light Gradient Boosted Machine, or LightGBM for short, is an open-source library that provides an efficient and effective implementation of the gradient boosting algorithm."
   ]
  },
  {
   "cell_type": "markdown",
   "id": "62dff10e",
   "metadata": {},
   "source": [
    "3 . Describe each phase of the classification process in detail."
   ]
  },
  {
   "cell_type": "markdown",
   "id": "9d0f7992",
   "metadata": {},
   "source": [
    "__Ans:__ Process of classification consists of two phases :\n",
    "\n",
    "   + Construction of the classifier\n",
    "   + Usage of the classifier.\n",
    "    \n",
    "A classifier in machine learning is an algorithm that automatically orders or categorizes data into one or more of a set of “classes.” One of the most common examples is an email classifier that scans emails to filter them by class label: Spam or Not Spam.\n",
    "\n",
    "The main goal of the Classification algorithm is to identify the category of a given dataset, and these algorithms are mainly used to predict the output for the categorical data. Multi-class Classifier: If a classification problem has more than two outcomes, then it is called as Multi-class Classifier."
   ]
  },
  {
   "cell_type": "markdown",
   "id": "afacac80",
   "metadata": {},
   "source": [
    "4 . Go through the SVM model in depth using various scenarios."
   ]
  },
  {
   "cell_type": "markdown",
   "id": "9455b37a",
   "metadata": {},
   "source": [
    "__Ans: Support Vector Machine (SVM)__ is a supervised machine learning algorithm that can be used for both classification or regression challenges.\n",
    "\n",
    "Support Vectors are simply the coordinates of individual observation. The SVM classifier is a frontier that best segregates the two classes (hyper-plane/ line).\n",
    "\n",
    "SVM or Support Vector Machine is a linear model for classification and regression problems. It can solve linear and non-linear problems and work well for many practical problems. The idea of SVM is simple: The algorithm creates a line or a hyperplane which separates the data into classes."
   ]
  },
  {
   "cell_type": "markdown",
   "id": "3d580bf1",
   "metadata": {},
   "source": [
    "5 . What are some of the benefits and drawbacks of SVM?"
   ]
  },
  {
   "cell_type": "markdown",
   "id": "7df0aeec",
   "metadata": {},
   "source": [
    "__Ans:__ The following are some of the benefits and drawbacks of SVM:\n",
    "\n",
    "   + __Benefits:__\n",
    "       + SVM works relatively well when there is a clear margin of separation between classes.\n",
    "       + SVM is more effective in high dimensional spaces.\n",
    "       + SVM is effective in cases where the number of dimensions is greater than the number of samples.\n",
    "       + SVM is relatively memory efficient.\n",
    "   + __Drawbacks:__\n",
    "       + SVM algorithm is not suitable for large data sets.\n",
    "       + SVM does not perform very well when the data set has more noise i.e. target classes are overlapping.\n",
    "       + In cases where the number of features for each data point exceeds the number of training data samples,the SVM will underperform."
   ]
  },
  {
   "cell_type": "markdown",
   "id": "a224bdfc",
   "metadata": {},
   "source": [
    "6 . Go over the kNN model in depth."
   ]
  },
  {
   "cell_type": "markdown",
   "id": "a04acaab",
   "metadata": {},
   "source": [
    "__Ans:__ kNN is the simplest machine learning algorithm to understand and also to explain. It is a versatile algorithm i.e. useful for both classification and regression. It has one big advantage is that kNN ha no pre assumption about the data. __Let the data speak for itself.__\n",
    "\n",
    "The abbreviation KNN stands for __K-Nearest Neighbour.__ It is a supervised machine learning algorithm. The algorithm can be used to solve both classification and regression problem statements. The number of nearest neighbours to a new unknown variable that has to be predicted or classified is denoted by the symbol 'K'."
   ]
  },
  {
   "cell_type": "markdown",
   "id": "bfa1bfc0",
   "metadata": {},
   "source": [
    "7 . Discuss the kNN algorithm&#39;s error rate and validation error."
   ]
  },
  {
   "cell_type": "markdown",
   "id": "c21a4583",
   "metadata": {},
   "source": [
    "__Ans:__ Training error here is the error you'll have when you input your training set to your KNN as test set. Since your test sample is in the training dataset, it'll choose itself as the closest and never make mistake. For this reason, the training error will be zero when K = 1, irrespective of the dataset.\n",
    "\n",
    "kNN produces predictions by looking at the k nearest neighbours of a case x to predict its y, so that's fine. In particular, the kNN model basically consists of its training cases - but that's the cross validation procedure doesn't care about at all."
   ]
  },
  {
   "cell_type": "markdown",
   "id": "e78f1a61",
   "metadata": {},
   "source": [
    "8 . For kNN, talk about how to measure the difference between the test and training results."
   ]
  },
  {
   "cell_type": "markdown",
   "id": "013dd7e6",
   "metadata": {},
   "source": [
    "__Ans:__ KNN can be used for classification — the output is a class membership (predicts a class — a discrete value). An object is classified by a majority vote of its neighbors, with the object being assigned to the class most common among its k nearest neighbors.\n",
    "\n",
    "KNN classifier does not have any specialized training phase as it uses all the training samples for classification and simply stores the results in memory. KNN is a non-parametric algorithm because it does not assume anything about the training data. This makes it useful for problems having non-linear data."
   ]
  },
  {
   "cell_type": "markdown",
   "id": "181c72f6",
   "metadata": {},
   "source": [
    "9 . Create the kNN algorithm."
   ]
  },
  {
   "cell_type": "markdown",
   "id": "9f3383e2",
   "metadata": {},
   "source": [
    "__Ans:__ The k-nearest neighbor algorithm is imported from the scikit-learn package.\n",
    "\n",
    "   + Create feature and target variables.\n",
    "   + Split data into training and test data.\n",
    "   + Generate a k-NN model using neighbors value.\n",
    "   + Train or fit the data into the model.\n",
    "   + Predict the future."
   ]
  },
  {
   "cell_type": "markdown",
   "id": "51593675",
   "metadata": {},
   "source": [
    "10 . What is a decision tree, exactly? What are the various kinds of nodes? Explain all in depth."
   ]
  },
  {
   "cell_type": "markdown",
   "id": "f4c0fa53",
   "metadata": {},
   "source": [
    "__Ans:__ A decision tree is a tree-like model that acts as a decision support tool, visually displaying decisions and their potential outcomes, consequences, and costs. Drawing a decision tree diagram starts from left to right and consists of __burst__ nodes that split into different paths.\n",
    "\n",
    "There are three different types of nodes: chance nodes, decision nodes, and end nodes. A chance node, represented by a circle, shows the probabilities of certain results. A decision node, represented by a square, shows a decision to be made, and an end node shows the final outcome of a decision path."
   ]
  },
  {
   "cell_type": "markdown",
   "id": "2235f793",
   "metadata": {},
   "source": [
    "11 . Describe the different ways to scan a decision tree."
   ]
  },
  {
   "cell_type": "markdown",
   "id": "93d7bdca",
   "metadata": {},
   "source": [
    "__Ans:__ In a decision tree analysis, the decision-maker has usually to proceed through the following six steps:\n",
    "\n",
    "   + Define the problem in structured terms.\n",
    "   + Model the decision process.\n",
    "   + Apply the appropriate probability values and financial data.\n",
    "   + Solve the decision tree.\n",
    "   + Perform sensitivity analysis."
   ]
  },
  {
   "cell_type": "markdown",
   "id": "b17ffb60",
   "metadata": {},
   "source": [
    "12 . Describe in depth the decision tree algorithm."
   ]
  },
  {
   "cell_type": "markdown",
   "id": "ed83a21f",
   "metadata": {},
   "source": [
    "__Ans:__ Decision Tree algorithm belongs to the family of supervised learning algorithms. The goal of using a Decision Tree is to create a training model that can use to predict the class or value of the target variable by learning simple decision rules inferred from prior data(training data)."
   ]
  },
  {
   "cell_type": "markdown",
   "id": "6be42dd7",
   "metadata": {},
   "source": [
    "13 . In a decision tree, what is inductive bias? What would you do to stop overfitting?"
   ]
  },
  {
   "cell_type": "markdown",
   "id": "3d962ddb",
   "metadata": {},
   "source": [
    "__Ans:__ The inductive bias (also known as learning bias) of a learning algorithm is the set of assumptions that the learner uses to predict outputs of given inputs that it has not encountered. The kind of necessary assumptions about the nature of the target function are subsumed in the phrase inductive bias.\n",
    "\n",
    "Overfitting makes the model relevant to its data set only, and irrelevant to any other data sets. Some of the methods used to prevent overfitting include ensembling, data augmentation, data simplification, and cross-validation."
   ]
  },
  {
   "cell_type": "markdown",
   "id": "dfebbaf2",
   "metadata": {},
   "source": [
    "14 . Explain advantages and disadvantages of using a decision tree?"
   ]
  },
  {
   "cell_type": "markdown",
   "id": "963d7f36",
   "metadata": {},
   "source": [
    "__Ans:__ Advantages and Disadvantages of Decision Trees in Machine Learning. Decision Tree is used to solve both classification and regression problems. But the main drawback of Decision Tree is that it generally leads to overfitting of the data."
   ]
  },
  {
   "cell_type": "markdown",
   "id": "40300eb5",
   "metadata": {},
   "source": [
    "15 . Describe in depth the problems that are suitable for decision tree learning."
   ]
  },
  {
   "cell_type": "markdown",
   "id": "310f6c40",
   "metadata": {},
   "source": [
    "__Ans:__ Appropriate Problems for Decision Tree Learning are: Instances are represented by attribute-value pairs. The target function has discrete output values.\n",
    "\n",
    "   + Disjunctive descriptions may be required.\n",
    "   + The training data may contain errors.\n",
    "   + The training data may contain missing attribute values."
   ]
  },
  {
   "cell_type": "markdown",
   "id": "4d933951",
   "metadata": {},
   "source": [
    "16 . Describe in depth the random forest model. What distinguishes a random forest?"
   ]
  },
  {
   "cell_type": "markdown",
   "id": "cef7a09f",
   "metadata": {},
   "source": [
    "__Ans:__ The random forest is a classification algorithm consisting of many decisions trees. It uses bagging and feature randomness when building each individual tree to try to create an uncorrelated forest of trees whose prediction by committee is more accurate than that of any individual tree. The fundamental difference is that in Random forests, only a subset of features are selected at random out of the total and the best split feature from the subset is used to split each node in a tree, unlike in bagging where all features are considered for splitting a node."
   ]
  },
  {
   "cell_type": "markdown",
   "id": "553c9c0e",
   "metadata": {},
   "source": [
    "17 . In a random forest, talk about OOB error and variable value."
   ]
  },
  {
   "cell_type": "markdown",
   "id": "847f3ef5",
   "metadata": {},
   "source": [
    "__Ans:__ The out-of-bag (OOB) error is the average error for each calculated using predictions from the trees that do not contain in their respective bootstrap sample. There are two measures of importance given for each variable in the random forest. The first measure is based on how much the accuracy decreases when the variable is excluded.The second measure is based on the decrease of Gini impurity when a variable is chosen to split a node."
   ]
  },
  {
   "cell_type": "code",
   "execution_count": null,
   "id": "1623518e",
   "metadata": {},
   "outputs": [],
   "source": []
  }
 ],
 "metadata": {
  "kernelspec": {
   "display_name": "Python 3 (ipykernel)",
   "language": "python",
   "name": "python3"
  },
  "language_info": {
   "codemirror_mode": {
    "name": "ipython",
    "version": 3
   },
   "file_extension": ".py",
   "mimetype": "text/x-python",
   "name": "python",
   "nbconvert_exporter": "python",
   "pygments_lexer": "ipython3",
   "version": "3.9.7"
  }
 },
 "nbformat": 4,
 "nbformat_minor": 5
}
