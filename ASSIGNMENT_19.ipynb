{
 "cells": [
  {
   "cell_type": "markdown",
   "id": "008f3251",
   "metadata": {},
   "source": [
    "1 . A set of one-dimensional data points is given to you: 5, 10, 15, 20, 25, 30, 35. Assume that k = 2\n",
    "and that the first set of random centroid is 15, 32, and that the second set is 12, 30.\n",
    "\n",
    "a) Using the k-means method, create two clusters for each set of centroid described above.\n",
    "\n",
    "b) For each set of centroid values, calculate the SSE."
   ]
  },
  {
   "cell_type": "code",
   "execution_count": null,
   "id": "dd5e04d7",
   "metadata": {},
   "outputs": [],
   "source": []
  },
  {
   "cell_type": "markdown",
   "id": "44c6a1d5",
   "metadata": {},
   "source": [
    "2 . Describe how the Market Basket Research makes use of association analysis concepts."
   ]
  },
  {
   "cell_type": "code",
   "execution_count": null,
   "id": "7c1b4795",
   "metadata": {},
   "outputs": [],
   "source": []
  },
  {
   "cell_type": "markdown",
   "id": "4583c845",
   "metadata": {},
   "source": [
    "3 . Give an example of the Apriori algorithm for learning association rules."
   ]
  },
  {
   "cell_type": "code",
   "execution_count": null,
   "id": "12f78738",
   "metadata": {},
   "outputs": [],
   "source": []
  },
  {
   "cell_type": "markdown",
   "id": "0e40569b",
   "metadata": {},
   "source": [
    "4 . In hierarchical clustering, how is the distance between clusters measured? Explain how this metric\n",
    "is used to decide when to end the iteration."
   ]
  },
  {
   "cell_type": "code",
   "execution_count": null,
   "id": "59b57e9b",
   "metadata": {},
   "outputs": [],
   "source": []
  },
  {
   "cell_type": "markdown",
   "id": "c0b8bd01",
   "metadata": {},
   "source": [
    "5 . In the k-means algorithm, how do you recompute the cluster centroids?"
   ]
  },
  {
   "cell_type": "code",
   "execution_count": null,
   "id": "344da7f0",
   "metadata": {},
   "outputs": [],
   "source": []
  },
  {
   "cell_type": "markdown",
   "id": "5520cef6",
   "metadata": {},
   "source": [
    "6 . At the start of the clustering exercise, discuss one method for determining the required number of\n",
    "clusters."
   ]
  },
  {
   "cell_type": "code",
   "execution_count": null,
   "id": "a1c82764",
   "metadata": {},
   "outputs": [],
   "source": []
  },
  {
   "cell_type": "markdown",
   "id": "f86512fb",
   "metadata": {},
   "source": [
    "7 . Discuss the k-means algorithm&#39;s advantages and disadvantages."
   ]
  },
  {
   "cell_type": "code",
   "execution_count": null,
   "id": "d34afcb6",
   "metadata": {},
   "outputs": [],
   "source": []
  },
  {
   "cell_type": "markdown",
   "id": "afd2b264",
   "metadata": {},
   "source": [
    "8 . Draw a diagram to demonstrate the principle of clustering."
   ]
  },
  {
   "cell_type": "code",
   "execution_count": null,
   "id": "ce33e122",
   "metadata": {},
   "outputs": [],
   "source": []
  },
  {
   "cell_type": "markdown",
   "id": "292d48a5",
   "metadata": {},
   "source": [
    "9 . During your study, you discovered seven findings, which are listed in the data points below. Using\n",
    "the K-means algorithm, you want to build three clusters from these observations. The clusters C1,\n",
    "C2, and C3 have the following findings after the first iteration:\n",
    "\n",
    "`C1: (2,2), (4,4), (6,6); C2: (2,2), (4,4), (6,6); C3: (2,2), (4,4),`\n",
    "\n",
    "`C2: (0,4), (4,0), (0,4), (0,4), (0,4), (0,4), (0,4), (0,4), (0,`\n",
    "\n",
    "`C3: (5,5) and (9,9)`\n",
    "\n",
    "What would the cluster centroids be if you were to run a second iteration? What would this\n",
    "clustering&#39;s SSE be?"
   ]
  },
  {
   "cell_type": "code",
   "execution_count": null,
   "id": "12943baa",
   "metadata": {},
   "outputs": [],
   "source": []
  },
  {
   "cell_type": "markdown",
   "id": "dd5ccdc4",
   "metadata": {},
   "source": [
    "10 . In a software project, the team is attempting to determine if software flaws discovered during\n",
    "testing are identical. Based on the text analytics of the defect details, they decided to build 5 clusters\n",
    "of related defects. Any new defect formed after the 5 clusters of defects have been identified must\n",
    "be listed as one of the forms identified by clustering. A simple diagram can be used to explain this\n",
    "process. Assume you have 20 defect data points that are clustered into 5 clusters and you used the\n",
    "k-means algorithm."
   ]
  },
  {
   "cell_type": "code",
   "execution_count": null,
   "id": "73a2dcf6",
   "metadata": {},
   "outputs": [],
   "source": []
  },
  {
   "cell_type": "code",
   "execution_count": null,
   "id": "3274a9a3",
   "metadata": {},
   "outputs": [],
   "source": []
  }
 ],
 "metadata": {
  "kernelspec": {
   "display_name": "Python 3 (ipykernel)",
   "language": "python",
   "name": "python3"
  },
  "language_info": {
   "codemirror_mode": {
    "name": "ipython",
    "version": 3
   },
   "file_extension": ".py",
   "mimetype": "text/x-python",
   "name": "python",
   "nbconvert_exporter": "python",
   "pygments_lexer": "ipython3",
   "version": "3.9.7"
  }
 },
 "nbformat": 4,
 "nbformat_minor": 5
}
