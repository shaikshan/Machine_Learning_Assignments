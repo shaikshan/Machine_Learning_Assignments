{
 "cells": [
  {
   "cell_type": "markdown",
   "id": "7c318b42",
   "metadata": {},
   "source": [
    "1 . What are the key tasks that machine learning entails? What does data pre-processing imply?"
   ]
  },
  {
   "cell_type": "code",
   "execution_count": null,
   "id": "0f07b035",
   "metadata": {},
   "outputs": [],
   "source": []
  },
  {
   "cell_type": "markdown",
   "id": "1d1d35e5",
   "metadata": {},
   "source": [
    "2 . Describe quantitative and qualitative data in depth. Make a distinction between the two."
   ]
  },
  {
   "cell_type": "code",
   "execution_count": null,
   "id": "efb60dac",
   "metadata": {},
   "outputs": [],
   "source": []
  },
  {
   "cell_type": "markdown",
   "id": "648be37c",
   "metadata": {},
   "source": [
    "3 . Create a basic data collection that includes some sample records. Have at least one attribute from\n",
    "each of the machine learning data types."
   ]
  },
  {
   "cell_type": "code",
   "execution_count": null,
   "id": "69756304",
   "metadata": {},
   "outputs": [],
   "source": []
  },
  {
   "cell_type": "markdown",
   "id": "7ab20797",
   "metadata": {},
   "source": [
    "4 . What are the various causes of machine learning data issues? What are the ramifications?"
   ]
  },
  {
   "cell_type": "code",
   "execution_count": null,
   "id": "c7933932",
   "metadata": {},
   "outputs": [],
   "source": []
  },
  {
   "cell_type": "markdown",
   "id": "e52a0ad9",
   "metadata": {},
   "source": [
    "5 . Demonstrate various approaches to categorical data exploration with appropriate examples."
   ]
  },
  {
   "cell_type": "code",
   "execution_count": null,
   "id": "9ebe4e21",
   "metadata": {},
   "outputs": [],
   "source": []
  },
  {
   "cell_type": "markdown",
   "id": "0c0561f3",
   "metadata": {},
   "source": [
    "6 . How would the learning activity be affected if certain variables have missing values? Having said\n",
    "that, what can be done about it?"
   ]
  },
  {
   "cell_type": "code",
   "execution_count": null,
   "id": "fe7a84ed",
   "metadata": {},
   "outputs": [],
   "source": []
  },
  {
   "cell_type": "markdown",
   "id": "56f99d35",
   "metadata": {},
   "source": [
    "7 . Describe the various methods for dealing with missing data values in depth."
   ]
  },
  {
   "cell_type": "code",
   "execution_count": null,
   "id": "93f2b203",
   "metadata": {},
   "outputs": [],
   "source": []
  },
  {
   "cell_type": "code",
   "execution_count": null,
   "id": "742e8ed3",
   "metadata": {},
   "outputs": [],
   "source": []
  },
  {
   "cell_type": "markdown",
   "id": "a15927a3",
   "metadata": {},
   "source": [
    "8 . What are the various data pre-processing techniques? Explain dimensionality reduction and\n",
    "function selection in a few words."
   ]
  },
  {
   "cell_type": "code",
   "execution_count": null,
   "id": "a79db5d4",
   "metadata": {},
   "outputs": [],
   "source": []
  },
  {
   "cell_type": "markdown",
   "id": "402c5e0b",
   "metadata": {},
   "source": [
    "9.\n",
    "\n",
    "`i. What is the IQR? What criteria are used to assess it?`\n",
    "\n",
    "`ii. Describe the various components of a box plot in detail? When will the lower whisker\n",
    "surpass the upper whisker in length? How can box plots be used to identify outliers?`"
   ]
  },
  {
   "cell_type": "code",
   "execution_count": null,
   "id": "0e8eb5df",
   "metadata": {},
   "outputs": [],
   "source": []
  },
  {
   "cell_type": "markdown",
   "id": "5ae99729",
   "metadata": {},
   "source": [
    "10 . Make brief notes on any two of the following:\n",
    "\n",
    "`1. Data collected at regular intervals`\n",
    "\n",
    "`2. The gap between the quartiles`\n",
    "\n",
    "`3. Use a cross-tab`"
   ]
  },
  {
   "cell_type": "code",
   "execution_count": null,
   "id": "fba2a830",
   "metadata": {},
   "outputs": [],
   "source": []
  },
  {
   "cell_type": "markdown",
   "id": "be4e49e2",
   "metadata": {},
   "source": [
    "11 . Make a comparison between:\n",
    "\n",
    "`1. Data with nominal and ordinal values`\n",
    "\n",
    "`2. Histogram and box plot`\n",
    "\n",
    "`3. The average and median`"
   ]
  },
  {
   "cell_type": "code",
   "execution_count": null,
   "id": "554afcf3",
   "metadata": {},
   "outputs": [],
   "source": []
  }
 ],
 "metadata": {
  "kernelspec": {
   "display_name": "Python 3 (ipykernel)",
   "language": "python",
   "name": "python3"
  },
  "language_info": {
   "codemirror_mode": {
    "name": "ipython",
    "version": 3
   },
   "file_extension": ".py",
   "mimetype": "text/x-python",
   "name": "python",
   "nbconvert_exporter": "python",
   "pygments_lexer": "ipython3",
   "version": "3.9.7"
  }
 },
 "nbformat": 4,
 "nbformat_minor": 5
}
