{
 "cells": [
  {
   "cell_type": "markdown",
   "id": "823612bf",
   "metadata": {},
   "source": [
    "1 . What is the difference between supervised and unsupervised learning? Give some examples to\n",
    "illustrate your point."
   ]
  },
  {
   "cell_type": "code",
   "execution_count": null,
   "id": "14e79e4c",
   "metadata": {},
   "outputs": [],
   "source": []
  },
  {
   "cell_type": "markdown",
   "id": "a8914f2c",
   "metadata": {},
   "source": [
    "2 . Mention a few unsupervised learning applications."
   ]
  },
  {
   "cell_type": "code",
   "execution_count": null,
   "id": "befecabf",
   "metadata": {},
   "outputs": [],
   "source": []
  },
  {
   "cell_type": "markdown",
   "id": "f3174ed4",
   "metadata": {},
   "source": [
    "3 . What are the three main types of clustering methods? Briefly describe the characteristics of each."
   ]
  },
  {
   "cell_type": "code",
   "execution_count": null,
   "id": "fd3f59fb",
   "metadata": {},
   "outputs": [],
   "source": []
  },
  {
   "cell_type": "markdown",
   "id": "a942842d",
   "metadata": {},
   "source": [
    "4 . Explain how the k-means algorithm determines the consistency of clustering."
   ]
  },
  {
   "cell_type": "code",
   "execution_count": null,
   "id": "8a5961a7",
   "metadata": {},
   "outputs": [],
   "source": []
  },
  {
   "cell_type": "markdown",
   "id": "e7302a29",
   "metadata": {},
   "source": [
    "5 . With a simple illustration, explain the key difference between the k-means and k-medoids\n",
    "algorithms."
   ]
  },
  {
   "cell_type": "code",
   "execution_count": null,
   "id": "76aa73d5",
   "metadata": {},
   "outputs": [],
   "source": []
  },
  {
   "cell_type": "markdown",
   "id": "1262a505",
   "metadata": {},
   "source": [
    "6 . What is a dendrogram, and how does it work? Explain how to do it."
   ]
  },
  {
   "cell_type": "code",
   "execution_count": null,
   "id": "e01e9430",
   "metadata": {},
   "outputs": [],
   "source": []
  },
  {
   "cell_type": "markdown",
   "id": "d3fbe90f",
   "metadata": {},
   "source": [
    "7 . What exactly is SSE? What role does it play in the k-means algorithm?"
   ]
  },
  {
   "cell_type": "code",
   "execution_count": null,
   "id": "cf5597fe",
   "metadata": {},
   "outputs": [],
   "source": []
  },
  {
   "cell_type": "markdown",
   "id": "66c31df2",
   "metadata": {},
   "source": [
    "8 . With a step-by-step algorithm, explain the k-means procedure."
   ]
  },
  {
   "cell_type": "code",
   "execution_count": null,
   "id": "c0efec65",
   "metadata": {},
   "outputs": [],
   "source": []
  },
  {
   "cell_type": "markdown",
   "id": "0722519b",
   "metadata": {},
   "source": [
    "9 . In the sense of hierarchical clustering, define the terms single link and complete link."
   ]
  },
  {
   "cell_type": "code",
   "execution_count": null,
   "id": "0659fdb8",
   "metadata": {},
   "outputs": [],
   "source": []
  },
  {
   "cell_type": "markdown",
   "id": "3a4e9cdd",
   "metadata": {},
   "source": [
    "10 . How does the apriori concept aid in the reduction of measurement overhead in a business\n",
    "basket analysis? Give an example to demonstrate your point."
   ]
  },
  {
   "cell_type": "code",
   "execution_count": null,
   "id": "db8570bb",
   "metadata": {},
   "outputs": [],
   "source": []
  },
  {
   "cell_type": "code",
   "execution_count": null,
   "id": "26864b6d",
   "metadata": {},
   "outputs": [],
   "source": []
  }
 ],
 "metadata": {
  "kernelspec": {
   "display_name": "Python 3 (ipykernel)",
   "language": "python",
   "name": "python3"
  },
  "language_info": {
   "codemirror_mode": {
    "name": "ipython",
    "version": 3
   },
   "file_extension": ".py",
   "mimetype": "text/x-python",
   "name": "python",
   "nbconvert_exporter": "python",
   "pygments_lexer": "ipython3",
   "version": "3.9.7"
  }
 },
 "nbformat": 4,
 "nbformat_minor": 5
}
