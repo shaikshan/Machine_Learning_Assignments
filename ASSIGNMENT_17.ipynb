{
 "cells": [
  {
   "cell_type": "markdown",
   "id": "844adb4b",
   "metadata": {},
   "source": [
    "1 . Using a graph to illustrate slope and intercept, define basic linear regression."
   ]
  },
  {
   "cell_type": "code",
   "execution_count": null,
   "id": "63ffb2e8",
   "metadata": {},
   "outputs": [],
   "source": []
  },
  {
   "cell_type": "markdown",
   "id": "df16eb09",
   "metadata": {},
   "source": [
    "2 . In a graph, explain the terms rise, run, and slope."
   ]
  },
  {
   "cell_type": "code",
   "execution_count": null,
   "id": "b2ad9258",
   "metadata": {},
   "outputs": [],
   "source": []
  },
  {
   "cell_type": "markdown",
   "id": "166c569d",
   "metadata": {},
   "source": [
    "3 . Use a graph to demonstrate slope, linear positive slope, and linear negative slope, as well as the\n",
    "different conditions that contribute to the slope."
   ]
  },
  {
   "cell_type": "code",
   "execution_count": null,
   "id": "9425eb67",
   "metadata": {},
   "outputs": [],
   "source": []
  },
  {
   "cell_type": "markdown",
   "id": "2b1dcd0a",
   "metadata": {},
   "source": [
    "4 . Use a graph to demonstrate curve linear negative slope and curve linear positive slope."
   ]
  },
  {
   "cell_type": "code",
   "execution_count": null,
   "id": "1b95a78e",
   "metadata": {},
   "outputs": [],
   "source": []
  },
  {
   "cell_type": "markdown",
   "id": "789593eb",
   "metadata": {},
   "source": [
    "5 . Use a graph to show the maximum and low points of curves."
   ]
  },
  {
   "cell_type": "code",
   "execution_count": null,
   "id": "014eefd1",
   "metadata": {},
   "outputs": [],
   "source": []
  },
  {
   "cell_type": "markdown",
   "id": "0465b94e",
   "metadata": {},
   "source": [
    "6 . Use the formulas for a and b to explain ordinary least squares."
   ]
  },
  {
   "cell_type": "code",
   "execution_count": null,
   "id": "3c9d765e",
   "metadata": {},
   "outputs": [],
   "source": []
  },
  {
   "cell_type": "markdown",
   "id": "6084d4a4",
   "metadata": {},
   "source": [
    "7 . Provide a step-by-step explanation of the OLS algorithm."
   ]
  },
  {
   "cell_type": "code",
   "execution_count": null,
   "id": "93d33b2e",
   "metadata": {},
   "outputs": [],
   "source": []
  },
  {
   "cell_type": "markdown",
   "id": "8b06c3df",
   "metadata": {},
   "source": [
    "8 . What is the regression&#39;s standard error? To represent the same, make a graph."
   ]
  },
  {
   "cell_type": "code",
   "execution_count": null,
   "id": "ec6e843e",
   "metadata": {},
   "outputs": [],
   "source": []
  },
  {
   "cell_type": "markdown",
   "id": "579d9288",
   "metadata": {},
   "source": [
    "9 . Provide an example of multiple linear regression."
   ]
  },
  {
   "cell_type": "code",
   "execution_count": null,
   "id": "1482bf5a",
   "metadata": {},
   "outputs": [],
   "source": []
  },
  {
   "cell_type": "markdown",
   "id": "487c50f7",
   "metadata": {},
   "source": [
    "10 . Describe the regression analysis assumptions and the BLUE principle."
   ]
  },
  {
   "cell_type": "code",
   "execution_count": null,
   "id": "91aac30f",
   "metadata": {},
   "outputs": [],
   "source": []
  },
  {
   "cell_type": "markdown",
   "id": "48442436",
   "metadata": {},
   "source": [
    "11 . Describe two major issues with regression analysis."
   ]
  },
  {
   "cell_type": "code",
   "execution_count": null,
   "id": "5ffcf8f5",
   "metadata": {},
   "outputs": [],
   "source": []
  },
  {
   "cell_type": "markdown",
   "id": "9e83c632",
   "metadata": {},
   "source": [
    "12 . How can the linear regression model&#39;s accuracy be improved?"
   ]
  },
  {
   "cell_type": "code",
   "execution_count": null,
   "id": "dbe3ce54",
   "metadata": {},
   "outputs": [],
   "source": []
  },
  {
   "cell_type": "markdown",
   "id": "bb842168",
   "metadata": {},
   "source": [
    "13 . Using an example, describe the polynomial regression model in detail."
   ]
  },
  {
   "cell_type": "code",
   "execution_count": null,
   "id": "e3b41d53",
   "metadata": {},
   "outputs": [],
   "source": []
  },
  {
   "cell_type": "markdown",
   "id": "8824daf5",
   "metadata": {},
   "source": [
    "14 . Provide a detailed explanation of logistic regression."
   ]
  },
  {
   "cell_type": "code",
   "execution_count": null,
   "id": "86d8ade9",
   "metadata": {},
   "outputs": [],
   "source": []
  },
  {
   "cell_type": "markdown",
   "id": "f3337740",
   "metadata": {},
   "source": [
    "15 . What are the logistic regression assumptions?"
   ]
  },
  {
   "cell_type": "code",
   "execution_count": null,
   "id": "003dcee5",
   "metadata": {},
   "outputs": [],
   "source": []
  },
  {
   "cell_type": "markdown",
   "id": "97d6af22",
   "metadata": {},
   "source": [
    "16 . Go through the details of maximum likelihood estimation."
   ]
  },
  {
   "cell_type": "code",
   "execution_count": null,
   "id": "9a72f143",
   "metadata": {},
   "outputs": [],
   "source": []
  },
  {
   "cell_type": "code",
   "execution_count": null,
   "id": "77281910",
   "metadata": {},
   "outputs": [],
   "source": []
  }
 ],
 "metadata": {
  "kernelspec": {
   "display_name": "Python 3 (ipykernel)",
   "language": "python",
   "name": "python3"
  },
  "language_info": {
   "codemirror_mode": {
    "name": "ipython",
    "version": 3
   },
   "file_extension": ".py",
   "mimetype": "text/x-python",
   "name": "python",
   "nbconvert_exporter": "python",
   "pygments_lexer": "ipython3",
   "version": "3.9.7"
  }
 },
 "nbformat": 4,
 "nbformat_minor": 5
}
