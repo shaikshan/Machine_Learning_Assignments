{
 "cells": [
  {
   "cell_type": "markdown",
   "id": "4302d9ee",
   "metadata": {},
   "source": [
    "1 . In the sense of machine learning, what is a model? What is the best way to train a model?"
   ]
  },
  {
   "cell_type": "code",
   "execution_count": null,
   "id": "8caf1a3f",
   "metadata": {},
   "outputs": [],
   "source": []
  },
  {
   "cell_type": "markdown",
   "id": "7d5dff95",
   "metadata": {},
   "source": [
    "2 . In the sense of machine learning, explain the &quot;No Free Lunch&quot; theorem."
   ]
  },
  {
   "cell_type": "code",
   "execution_count": null,
   "id": "f6649979",
   "metadata": {},
   "outputs": [],
   "source": []
  },
  {
   "cell_type": "markdown",
   "id": "c66569e8",
   "metadata": {},
   "source": [
    "3 . Describe the K-fold cross-validation mechanism in detail."
   ]
  },
  {
   "cell_type": "code",
   "execution_count": null,
   "id": "9749f2de",
   "metadata": {},
   "outputs": [],
   "source": []
  },
  {
   "cell_type": "markdown",
   "id": "86df25f9",
   "metadata": {},
   "source": [
    "4 . Describe the bootstrap sampling method. What is the aim of it?"
   ]
  },
  {
   "cell_type": "code",
   "execution_count": null,
   "id": "873fd350",
   "metadata": {},
   "outputs": [],
   "source": []
  },
  {
   "cell_type": "markdown",
   "id": "97cb66f6",
   "metadata": {},
   "source": [
    "5 . What is the significance of calculating the Kappa value for a classification model? Demonstrate\n",
    "how to measure the Kappa value of a classification model using a sample collection of results."
   ]
  },
  {
   "cell_type": "code",
   "execution_count": null,
   "id": "e0098070",
   "metadata": {},
   "outputs": [],
   "source": []
  },
  {
   "cell_type": "markdown",
   "id": "28002b81",
   "metadata": {},
   "source": [
    "6 . Describe the model ensemble method. In machine learning, what part does it play?"
   ]
  },
  {
   "cell_type": "code",
   "execution_count": null,
   "id": "b67a6e76",
   "metadata": {},
   "outputs": [],
   "source": []
  },
  {
   "cell_type": "markdown",
   "id": "228f0ec8",
   "metadata": {},
   "source": [
    "7 . What is a descriptive model&#39;s main purpose? Give examples of real-world problems that\n",
    "descriptive models were used to solve."
   ]
  },
  {
   "cell_type": "code",
   "execution_count": null,
   "id": "7d9e6b3a",
   "metadata": {},
   "outputs": [],
   "source": []
  },
  {
   "cell_type": "markdown",
   "id": "abdf97b3",
   "metadata": {},
   "source": [
    "8 . Describe how to evaluate a linear regression model."
   ]
  },
  {
   "cell_type": "code",
   "execution_count": null,
   "id": "9fffe498",
   "metadata": {},
   "outputs": [],
   "source": []
  },
  {
   "cell_type": "markdown",
   "id": "a78db61b",
   "metadata": {},
   "source": [
    "9 . Distinguish :\n",
    "\n",
    "`1. Descriptive vs. predictive models`\n",
    "\n",
    "`2. Underfitting vs. overfitting the model`\n",
    "\n",
    "`3. Bootstrapping vs. cross-validation`"
   ]
  },
  {
   "cell_type": "code",
   "execution_count": null,
   "id": "71d82fb1",
   "metadata": {},
   "outputs": [],
   "source": []
  },
  {
   "cell_type": "markdown",
   "id": "5a377e46",
   "metadata": {},
   "source": [
    "10 . Make quick notes on:\n",
    "\n",
    "`1 . LOOCV.`\n",
    "\n",
    "`2 . F-measurement`\n",
    "\n",
    "`3 . The width of the silhouette`\n",
    "\n",
    "`4 . Receiver operating characteristic curve`"
   ]
  },
  {
   "cell_type": "code",
   "execution_count": null,
   "id": "56edf69b",
   "metadata": {},
   "outputs": [],
   "source": []
  }
 ],
 "metadata": {
  "kernelspec": {
   "display_name": "Python 3 (ipykernel)",
   "language": "python",
   "name": "python3"
  },
  "language_info": {
   "codemirror_mode": {
    "name": "ipython",
    "version": 3
   },
   "file_extension": ".py",
   "mimetype": "text/x-python",
   "name": "python",
   "nbconvert_exporter": "python",
   "pygments_lexer": "ipython3",
   "version": "3.9.7"
  }
 },
 "nbformat": 4,
 "nbformat_minor": 5
}
