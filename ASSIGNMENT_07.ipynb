{
 "cells": [
  {
   "cell_type": "markdown",
   "id": "1ce92dd2",
   "metadata": {},
   "source": [
    "1 . What is the definition of a target function? In the sense of a real-life example, express the target\n",
    "function. How is a target function&#39;s fitness assessed?"
   ]
  },
  {
   "cell_type": "code",
   "execution_count": null,
   "id": "d184a427",
   "metadata": {},
   "outputs": [],
   "source": []
  },
  {
   "cell_type": "markdown",
   "id": "bef17826",
   "metadata": {},
   "source": [
    "2 . What are predictive models, and how do they work? What are descriptive types, and how do you\n",
    "use them? Examples of both types of models should be provided. Distinguish between these two\n",
    "forms of models."
   ]
  },
  {
   "cell_type": "code",
   "execution_count": null,
   "id": "37a616cf",
   "metadata": {},
   "outputs": [],
   "source": []
  },
  {
   "cell_type": "markdown",
   "id": "c20a419e",
   "metadata": {},
   "source": [
    "3 . Describe the method of assessing a classification model&#39;s efficiency in detail. Describe the various\n",
    "measurement parameters."
   ]
  },
  {
   "cell_type": "code",
   "execution_count": null,
   "id": "e06e3827",
   "metadata": {},
   "outputs": [],
   "source": []
  },
  {
   "cell_type": "markdown",
   "id": "ee31fde6",
   "metadata": {},
   "source": [
    "4.\n",
    "\n",
    "`i. In the sense of machine learning models, what is underfitting? What is the most common\n",
    "reason for underfitting?`\n",
    "\n",
    "`ii. What does it mean to overfit? When is it going to happen?`\n",
    "\n",
    "`iii. In the sense of model fitting, explain the bias-variance trade-off.`"
   ]
  },
  {
   "cell_type": "code",
   "execution_count": null,
   "id": "f8cf990f",
   "metadata": {},
   "outputs": [],
   "source": []
  },
  {
   "cell_type": "markdown",
   "id": "a9c227b8",
   "metadata": {},
   "source": [
    "5 . Is it possible to boost the efficiency of a learning model? If so, please clarify how."
   ]
  },
  {
   "cell_type": "code",
   "execution_count": null,
   "id": "fe8cba5b",
   "metadata": {},
   "outputs": [],
   "source": []
  },
  {
   "cell_type": "markdown",
   "id": "de808869",
   "metadata": {},
   "source": [
    "6 . How would you rate an unsupervised learning model&#39;s success? What are the most common\n",
    "success indicators for an unsupervised learning model?"
   ]
  },
  {
   "cell_type": "code",
   "execution_count": null,
   "id": "767e30f9",
   "metadata": {},
   "outputs": [],
   "source": []
  },
  {
   "cell_type": "markdown",
   "id": "deb20613",
   "metadata": {},
   "source": [
    "7 . Is it possible to use a classification model for numerical data or a regression model for categorical\n",
    "data with a classification model? Explain your answer."
   ]
  },
  {
   "cell_type": "code",
   "execution_count": null,
   "id": "234ff0f3",
   "metadata": {},
   "outputs": [],
   "source": []
  },
  {
   "cell_type": "markdown",
   "id": "971ff730",
   "metadata": {},
   "source": [
    "8 . Describe the predictive modeling method for numerical values. What distinguishes it from\n",
    "categorical predictive modeling?"
   ]
  },
  {
   "cell_type": "code",
   "execution_count": null,
   "id": "a8e7d8d8",
   "metadata": {},
   "outputs": [],
   "source": []
  },
  {
   "cell_type": "markdown",
   "id": "643cb6ba",
   "metadata": {},
   "source": [
    "9 . The following data were collected when using a classification model to predict the malignancy of a\n",
    "group of patients&#39; tumors:\n",
    "\n",
    "`i. Accurate estimates – 15 cancerous, 75 benign`\n",
    "\n",
    "`ii. Wrong predictions – 3 cancerous, 7 benign\n",
    "Determine the model&#39;s error rate, Kappa value, sensitivity, precision, and F-measure.`"
   ]
  },
  {
   "cell_type": "code",
   "execution_count": null,
   "id": "3537123d",
   "metadata": {},
   "outputs": [],
   "source": []
  },
  {
   "cell_type": "markdown",
   "id": "e8752e31",
   "metadata": {},
   "source": [
    "10 . Make quick notes on:\n",
    "\n",
    "`1. The process of holding out`\n",
    "\n",
    "`2. Cross-validation by tenfold`\n",
    "\n",
    "`3. Adjusting the parameters`"
   ]
  },
  {
   "cell_type": "code",
   "execution_count": null,
   "id": "69ec8064",
   "metadata": {},
   "outputs": [],
   "source": []
  },
  {
   "cell_type": "markdown",
   "id": "fdf476a7",
   "metadata": {},
   "source": [
    "11 . Define the following terms:\n",
    "\n",
    "`1. Purity vs. Silhouette width`\n",
    "\n",
    "`2. Boosting vs. Bagging`\n",
    "\n",
    "`3. The eager learner vs. the lazy learner`"
   ]
  },
  {
   "cell_type": "code",
   "execution_count": null,
   "id": "0d8d0908",
   "metadata": {},
   "outputs": [],
   "source": []
  }
 ],
 "metadata": {
  "kernelspec": {
   "display_name": "Python 3 (ipykernel)",
   "language": "python",
   "name": "python3"
  },
  "language_info": {
   "codemirror_mode": {
    "name": "ipython",
    "version": 3
   },
   "file_extension": ".py",
   "mimetype": "text/x-python",
   "name": "python",
   "nbconvert_exporter": "python",
   "pygments_lexer": "ipython3",
   "version": "3.9.7"
  }
 },
 "nbformat": 4,
 "nbformat_minor": 5
}
