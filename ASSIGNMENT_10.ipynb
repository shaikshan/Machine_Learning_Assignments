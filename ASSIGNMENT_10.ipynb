{
 "cells": [
  {
   "cell_type": "markdown",
   "id": "67c6c33a",
   "metadata": {},
   "source": [
    "1 . Define the Bayesian interpretation of probability."
   ]
  },
  {
   "cell_type": "code",
   "execution_count": null,
   "id": "50fb6b33",
   "metadata": {},
   "outputs": [],
   "source": []
  },
  {
   "cell_type": "markdown",
   "id": "d40c9576",
   "metadata": {},
   "source": [
    "2 . Define probability of a union of two events with equation."
   ]
  },
  {
   "cell_type": "code",
   "execution_count": null,
   "id": "4207d6b4",
   "metadata": {},
   "outputs": [],
   "source": []
  },
  {
   "cell_type": "markdown",
   "id": "897b10a0",
   "metadata": {},
   "source": [
    "3 . What is joint probability? What is its formula?"
   ]
  },
  {
   "cell_type": "code",
   "execution_count": null,
   "id": "af6009c3",
   "metadata": {},
   "outputs": [],
   "source": []
  },
  {
   "cell_type": "markdown",
   "id": "9996d79d",
   "metadata": {},
   "source": [
    "4 . What is chain rule of probability?"
   ]
  },
  {
   "cell_type": "code",
   "execution_count": null,
   "id": "0bcaaa76",
   "metadata": {},
   "outputs": [],
   "source": []
  },
  {
   "cell_type": "markdown",
   "id": "69b47ccc",
   "metadata": {},
   "source": [
    "5 . What is conditional probability means? What is the formula of it?"
   ]
  },
  {
   "cell_type": "code",
   "execution_count": null,
   "id": "faa686f1",
   "metadata": {},
   "outputs": [],
   "source": []
  },
  {
   "cell_type": "markdown",
   "id": "e68cd3bf",
   "metadata": {},
   "source": [
    "6 . What are continuous random variables?"
   ]
  },
  {
   "cell_type": "code",
   "execution_count": null,
   "id": "00fb50c2",
   "metadata": {},
   "outputs": [],
   "source": []
  },
  {
   "cell_type": "markdown",
   "id": "86b9213c",
   "metadata": {},
   "source": [
    "7 . What are Bernoulli distributions? What is the formula of it?"
   ]
  },
  {
   "cell_type": "code",
   "execution_count": null,
   "id": "60d2a46c",
   "metadata": {},
   "outputs": [],
   "source": []
  },
  {
   "cell_type": "markdown",
   "id": "9bd58a8b",
   "metadata": {},
   "source": [
    "8 . What is binomial distribution? What is the formula?"
   ]
  },
  {
   "cell_type": "code",
   "execution_count": null,
   "id": "aba0b0eb",
   "metadata": {},
   "outputs": [],
   "source": []
  },
  {
   "cell_type": "markdown",
   "id": "5ded27e1",
   "metadata": {},
   "source": [
    "9 . What is Poisson distribution? What is the formula?"
   ]
  },
  {
   "cell_type": "code",
   "execution_count": null,
   "id": "8ca0e2c7",
   "metadata": {},
   "outputs": [],
   "source": []
  },
  {
   "cell_type": "markdown",
   "id": "bdfffeb6",
   "metadata": {},
   "source": [
    "10 . Define covariance."
   ]
  },
  {
   "cell_type": "code",
   "execution_count": null,
   "id": "5ab5169f",
   "metadata": {},
   "outputs": [],
   "source": []
  },
  {
   "cell_type": "markdown",
   "id": "38b929e6",
   "metadata": {},
   "source": [
    "11 . Define correlation"
   ]
  },
  {
   "cell_type": "code",
   "execution_count": null,
   "id": "5027ac1d",
   "metadata": {},
   "outputs": [],
   "source": []
  },
  {
   "cell_type": "markdown",
   "id": "88085d98",
   "metadata": {},
   "source": [
    "12 . Define sampling with replacement. Give example."
   ]
  },
  {
   "cell_type": "code",
   "execution_count": null,
   "id": "f4e45f1a",
   "metadata": {},
   "outputs": [],
   "source": []
  },
  {
   "cell_type": "markdown",
   "id": "f3b3bd1d",
   "metadata": {},
   "source": [
    "13 . What is sampling without replacement? Give example."
   ]
  },
  {
   "cell_type": "code",
   "execution_count": null,
   "id": "61a210e7",
   "metadata": {},
   "outputs": [],
   "source": []
  },
  {
   "cell_type": "markdown",
   "id": "c57717b6",
   "metadata": {},
   "source": [
    "14 . What is hypothesis? Give example."
   ]
  },
  {
   "cell_type": "code",
   "execution_count": null,
   "id": "4fd966db",
   "metadata": {},
   "outputs": [],
   "source": []
  }
 ],
 "metadata": {
  "kernelspec": {
   "display_name": "Python 3 (ipykernel)",
   "language": "python",
   "name": "python3"
  },
  "language_info": {
   "codemirror_mode": {
    "name": "ipython",
    "version": 3
   },
   "file_extension": ".py",
   "mimetype": "text/x-python",
   "name": "python",
   "nbconvert_exporter": "python",
   "pygments_lexer": "ipython3",
   "version": "3.9.7"
  }
 },
 "nbformat": 4,
 "nbformat_minor": 5
}
