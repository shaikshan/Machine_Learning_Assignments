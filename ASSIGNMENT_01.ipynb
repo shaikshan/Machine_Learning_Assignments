{
 "cells": [
  {
   "cell_type": "markdown",
   "id": "aa4bdb98",
   "metadata": {},
   "source": [
    "1 . What does one mean by the term &quot;machine learning&quot;?"
   ]
  },
  {
   "cell_type": "markdown",
   "id": "e8d7d347",
   "metadata": {},
   "source": [
    "__Ans__: Machine learning Popularly known as ML is a branch of Artificial Intelligence (AI) that allows software applications to become more accurate at predicting outcomes without being explicitly programmed to do so. Machine learning algorithms use historical data as input to predict new output values."
   ]
  },
  {
   "cell_type": "markdown",
   "id": "97d29f23",
   "metadata": {},
   "source": [
    "2 . Can you think of 4 distinct types of issues where it shines?"
   ]
  },
  {
   "cell_type": "markdown",
   "id": "666aa0bb",
   "metadata": {},
   "source": [
    "__Ans__: The following are some of the issues where Machine Learning can be used:\n",
    "\n",
    "- __Image Recognition__: Image recognition is one of the most common applications of machine learning. It is used to identify objects, persons, places, digital images, etc. The popular use case of image recognition and face detection is __Automatic friend tagging suggestion__.\n",
    "\n",
    "- __Speech Recognition__: While using Google, we get an option of __Search by voice__, it comes under speech recognition, and it's a popular application of Machine Learning. Speech recognition is a process of converting voice instructions into text, and it is also known as __Speech to text__, or __Computer based speech recognition__ At present, machine learning algorithms are widely used by various applications of speech recognition. Google assistant, Siri, Cortana, and Alexa are using speech recognition technology to follow the voice instructions.\n",
    "\n",
    "- __Traffic prediction__: It predicts the traffic conditions such as whether traffic is cleared, slow-moving, or heavily congested with the help of two ways: Real Time location of the vehicle form Google Map app and sensors Average time has taken on past days at the same time.\n",
    "\n",
    "- __Product recommendations__: Machine learning is widely used by various e-commerce and entertainment companies such as Amazon, Netflix, etc., for product recommendation to the user."
   ]
  },
  {
   "cell_type": "markdown",
   "id": "d276cd7f",
   "metadata": {},
   "source": [
    "3 . What is a labeled training set, and how does it work?"
   ]
  },
  {
   "cell_type": "markdown",
   "id": "bdbc154d",
   "metadata": {},
   "source": [
    "__Ans__: You split up the data containing known response variable values into two pieces. The training set is used to train the algorithm, and then you use the trained model on the test set to predict the response variable values that are already known"
   ]
  },
  {
   "cell_type": "markdown",
   "id": "d355a398",
   "metadata": {},
   "source": [
    "4 . What are the two most important tasks that are supervised?"
   ]
  },
  {
   "cell_type": "markdown",
   "id": "e0e3a3cc",
   "metadata": {},
   "source": [
    "__Ans__: The two most common supervised learning tasks are __Regression__ and __Classification__."
   ]
  },
  {
   "cell_type": "markdown",
   "id": "90ec0b81",
   "metadata": {},
   "source": [
    "5 . Can you think of four examples of unsupervised tasks?"
   ]
  },
  {
   "cell_type": "markdown",
   "id": "3b2e0364",
   "metadata": {},
   "source": [
    "__Ans__: Four common Unsupervised Tasks included __Clustering, Visualization, Dimensionality Reduction,__ and __Association Rule Learning.__"
   ]
  },
  {
   "cell_type": "markdown",
   "id": "645a67d9",
   "metadata": {},
   "source": [
    "6 . State the machine learning model that would be best to make a robot walk through various\n",
    "unfamiliar terrains?"
   ]
  },
  {
   "cell_type": "markdown",
   "id": "62d70ae0",
   "metadata": {},
   "source": [
    "__Ans__: The best Machine Learning algorithm to allow a Robot to walk in unfamiliar terrains is __Reinforced Learning__, where the robot can learn from response of the terrain to optimize itself."
   ]
  },
  {
   "cell_type": "markdown",
   "id": "1d9b08e5",
   "metadata": {},
   "source": [
    "7 . Which algorithm will you use to divide your customers into different groups?"
   ]
  },
  {
   "cell_type": "markdown",
   "id": "d724348e",
   "metadata": {},
   "source": [
    "__Ans__: The Best Algorithm to Segment Customers into different groups is either __Supervised Learning__ (if the groups have known labels) or __Unsupervised Learning (if there are no group labels).__"
   ]
  },
  {
   "cell_type": "markdown",
   "id": "42702a95",
   "metadata": {},
   "source": [
    "8 . Will you consider the problem of spam detection to be a supervised or unsupervised learning\n",
    "problem?"
   ]
  },
  {
   "cell_type": "markdown",
   "id": "37efbb3e",
   "metadata": {},
   "source": [
    "__Ans__: Spam detection is a Supervised Machine Learning problem because the labels are known (spam or no spam)."
   ]
  },
  {
   "cell_type": "markdown",
   "id": "54e04074",
   "metadata": {},
   "source": [
    "9 . What is the concept of an online learning system?"
   ]
  },
  {
   "cell_type": "markdown",
   "id": "9bfbbdec",
   "metadata": {},
   "source": [
    "__Ans__: Online learning system is a learning system in which the machine learns continously, as data is given in small streams continuously."
   ]
  },
  {
   "cell_type": "markdown",
   "id": "adb74cfe",
   "metadata": {},
   "source": [
    "10.What is out-of-core learning, and how does it differ from core learning?"
   ]
  },
  {
   "cell_type": "markdown",
   "id": "1c8677a9",
   "metadata": {},
   "source": [
    "__Ans__: Out-of-core learning system is a system that can handle data that cannot fit into your computer memory. It uses online learning system to feed data in small bits."
   ]
  },
  {
   "cell_type": "markdown",
   "id": "26b6713a",
   "metadata": {},
   "source": [
    "11 . What kind of learning algorithm makes predictions using a similarity measure?"
   ]
  },
  {
   "cell_type": "markdown",
   "id": "3bd13750",
   "metadata": {},
   "source": [
    "__Ans__: Learning algorithm that relies on a similarity measure to make predictions is __Instance Based Algorithm.__"
   ]
  },
  {
   "cell_type": "markdown",
   "id": "2856798b",
   "metadata": {},
   "source": [
    "12 . What&#39;s the difference between a model parameter and a hyperparameter in a learning\n",
    "algorithm?"
   ]
  },
  {
   "cell_type": "markdown",
   "id": "62e7c002",
   "metadata": {},
   "source": [
    "__Ans__: Model parameter determines how a model will predict given a new instance. Model usually has more than one parameter (i.e. slope of a linear model). Hyperparameter is a parameter for the learning algorithm, not of a model."
   ]
  },
  {
   "cell_type": "markdown",
   "id": "0ae53a15",
   "metadata": {},
   "source": [
    "13 . What are the criteria that model-based learning algorithms look for? What is the most popular\n",
    "method they use to achieve success? What method do they use to make predictions?"
   ]
  },
  {
   "cell_type": "markdown",
   "id": "f79bebe1",
   "metadata": {},
   "source": [
    "__Ans__: Model based learning algorithm search for the optimal value of parameters in a model that will give the best results for the new instances. We often use a cost function or similar to determine what the parameter value has to be in order to minimize the function. The model makes prediction by using the value of the new instance and the parameters in its function."
   ]
  },
  {
   "cell_type": "markdown",
   "id": "81f16a5a",
   "metadata": {},
   "source": [
    "14 . Can you name four of the most important Machine Learning challenges?"
   ]
  },
  {
   "cell_type": "markdown",
   "id": "c0c8980f",
   "metadata": {},
   "source": [
    "__Ans__: Four main challenges in Machine Learning include the following:\n",
    "\n",
    "- Overfitting the Data (using a model too complicated)\n",
    "- Underfitting the data (using a simple model)\n",
    "- Lacking in Data\n",
    "- Non Representative Data."
   ]
  },
  {
   "cell_type": "markdown",
   "id": "39d4e880",
   "metadata": {},
   "source": [
    "15 . What happens if the model performs well on the training data but fails to generalize the results\n",
    "to new situations? Can you think of three different options?"
   ]
  },
  {
   "cell_type": "markdown",
   "id": "485e6ea6",
   "metadata": {},
   "source": [
    "__Ans__: If the model performs poorly to new instances, then it has overfitted on the training data. To solve this, we can do any of the following three:\n",
    "\n",
    "- Get more data\n",
    "- Implement a simpler model\n",
    "- Eliminate outliers or noise from the existing data set."
   ]
  },
  {
   "cell_type": "markdown",
   "id": "bb63ef65",
   "metadata": {},
   "source": [
    "16 . What exactly is a test set, and why would you need one?"
   ]
  },
  {
   "cell_type": "markdown",
   "id": "b14667c4",
   "metadata": {},
   "source": [
    "__Ans__: Test set is a set to test your model (fit using training data) to see how it performs.Test set is necessary to determine how good (or bad) a model performs."
   ]
  },
  {
   "cell_type": "markdown",
   "id": "dcbd3e63",
   "metadata": {},
   "source": [
    "17 . What is a validation set&#39;s purpose?"
   ]
  },
  {
   "cell_type": "markdown",
   "id": "4ce2b824",
   "metadata": {},
   "source": [
    "__Ans__: Validation set is a set used to compare between different training models."
   ]
  },
  {
   "cell_type": "markdown",
   "id": "04bfd530",
   "metadata": {},
   "source": [
    "18 . What precisely is the train-dev kit, when will you need it, how do you put it to use?"
   ]
  },
  {
   "cell_type": "markdown",
   "id": "5f9994e8",
   "metadata": {},
   "source": [
    "__Ans__: Cross-validation is a tool to compare models without needing a separate validation set. It is preferred over validation set because we can save from breaking of part of the training set to create a validation set, as having more data is valuable regardless."
   ]
  },
  {
   "cell_type": "markdown",
   "id": "ea4beb05",
   "metadata": {},
   "source": [
    "19 . What could go wrong if you use the test set to tune hyperparameters?"
   ]
  },
  {
   "cell_type": "markdown",
   "id": "b62f9015",
   "metadata": {},
   "source": [
    "__Ans__: If you tune hyperparameters using the test sets, then it may not perform well on the out-of-sample data because the model is tuned just for that specific set."
   ]
  }
 ],
 "metadata": {
  "kernelspec": {
   "display_name": "Python 3 (ipykernel)",
   "language": "python",
   "name": "python3"
  },
  "language_info": {
   "codemirror_mode": {
    "name": "ipython",
    "version": 3
   },
   "file_extension": ".py",
   "mimetype": "text/x-python",
   "name": "python",
   "nbconvert_exporter": "python",
   "pygments_lexer": "ipython3",
   "version": "3.9.7"
  }
 },
 "nbformat": 4,
 "nbformat_minor": 5
}
