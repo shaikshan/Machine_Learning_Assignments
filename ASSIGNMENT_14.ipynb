{
 "cells": [
  {
   "cell_type": "markdown",
   "id": "7fdaf2ca",
   "metadata": {},
   "source": [
    "1 . What is the concept of supervised learning? What is the significance of the name?"
   ]
  },
  {
   "cell_type": "code",
   "execution_count": null,
   "id": "70be5b2b",
   "metadata": {},
   "outputs": [],
   "source": []
  },
  {
   "cell_type": "markdown",
   "id": "85d11c1b",
   "metadata": {},
   "source": [
    "2 . In the hospital sector, offer an example of supervised learning."
   ]
  },
  {
   "cell_type": "code",
   "execution_count": null,
   "id": "94ded7b6",
   "metadata": {},
   "outputs": [],
   "source": []
  },
  {
   "cell_type": "markdown",
   "id": "9cc82046",
   "metadata": {},
   "source": [
    "3 . Give three supervised learning examples."
   ]
  },
  {
   "cell_type": "code",
   "execution_count": null,
   "id": "9fbff10e",
   "metadata": {},
   "outputs": [],
   "source": []
  },
  {
   "cell_type": "markdown",
   "id": "dd0cf113",
   "metadata": {},
   "source": [
    "4 . In supervised learning, what are classification and regression?"
   ]
  },
  {
   "cell_type": "code",
   "execution_count": null,
   "id": "31ceb16d",
   "metadata": {},
   "outputs": [],
   "source": []
  },
  {
   "cell_type": "markdown",
   "id": "059cbf03",
   "metadata": {},
   "source": [
    "5 . Give some popular classification algorithms as examples."
   ]
  },
  {
   "cell_type": "code",
   "execution_count": null,
   "id": "4a05e20c",
   "metadata": {},
   "outputs": [],
   "source": []
  },
  {
   "cell_type": "markdown",
   "id": "1ed1dd30",
   "metadata": {},
   "source": [
    "6 . Briefly describe the SVM model."
   ]
  },
  {
   "cell_type": "code",
   "execution_count": null,
   "id": "1a40fb4c",
   "metadata": {},
   "outputs": [],
   "source": []
  },
  {
   "cell_type": "markdown",
   "id": "329d8c1b",
   "metadata": {},
   "source": [
    "7 . In SVM, what is the cost of misclassification?"
   ]
  },
  {
   "cell_type": "code",
   "execution_count": null,
   "id": "4d4b2bf4",
   "metadata": {},
   "outputs": [],
   "source": []
  },
  {
   "cell_type": "markdown",
   "id": "78e35d1d",
   "metadata": {},
   "source": [
    "8 . In the SVM model, define Support Vectors."
   ]
  },
  {
   "cell_type": "code",
   "execution_count": null,
   "id": "4a8b9f19",
   "metadata": {},
   "outputs": [],
   "source": []
  },
  {
   "cell_type": "markdown",
   "id": "c6d94630",
   "metadata": {},
   "source": [
    "9 . In the SVM model, define the kernel."
   ]
  },
  {
   "cell_type": "code",
   "execution_count": null,
   "id": "a3b99225",
   "metadata": {},
   "outputs": [],
   "source": []
  },
  {
   "cell_type": "markdown",
   "id": "d2fc350d",
   "metadata": {},
   "source": [
    "10 . What are the factors that influence SVM&#39;s effectiveness?"
   ]
  },
  {
   "cell_type": "code",
   "execution_count": null,
   "id": "ac6b0009",
   "metadata": {},
   "outputs": [],
   "source": []
  },
  {
   "cell_type": "markdown",
   "id": "2b084a66",
   "metadata": {},
   "source": [
    "11 . What are the benefits of using the SVM model?"
   ]
  },
  {
   "cell_type": "code",
   "execution_count": null,
   "id": "3cc3946d",
   "metadata": {},
   "outputs": [],
   "source": []
  },
  {
   "cell_type": "markdown",
   "id": "53b6d5ab",
   "metadata": {},
   "source": [
    "12 . What are the drawbacks of using the SVM model?"
   ]
  },
  {
   "cell_type": "code",
   "execution_count": null,
   "id": "3eee9f85",
   "metadata": {},
   "outputs": [],
   "source": []
  },
  {
   "cell_type": "markdown",
   "id": "c8b4e279",
   "metadata": {},
   "source": [
    "13 . Notes should be written on\n",
    "\n",
    "`1. The kNN algorithm has a validation flaw.`\n",
    "\n",
    "`2. In the kNN algorithm, the k value is chosen.`\n",
    "\n",
    "`3. A decision tree with inductive bias`"
   ]
  },
  {
   "cell_type": "code",
   "execution_count": null,
   "id": "b2ac4cd5",
   "metadata": {},
   "outputs": [],
   "source": []
  },
  {
   "cell_type": "markdown",
   "id": "7bacd8bc",
   "metadata": {},
   "source": [
    "14 . What are some of the benefits of the kNN algorithm?"
   ]
  },
  {
   "cell_type": "code",
   "execution_count": null,
   "id": "449625bb",
   "metadata": {},
   "outputs": [],
   "source": []
  },
  {
   "cell_type": "markdown",
   "id": "7c323d17",
   "metadata": {},
   "source": [
    "15 . What are some of the kNN algorithm&#39;s drawbacks?"
   ]
  },
  {
   "cell_type": "code",
   "execution_count": null,
   "id": "a2eeecd0",
   "metadata": {},
   "outputs": [],
   "source": []
  },
  {
   "cell_type": "markdown",
   "id": "7d7002d0",
   "metadata": {},
   "source": [
    "16 . Explain the decision tree algorithm in a few words."
   ]
  },
  {
   "cell_type": "code",
   "execution_count": null,
   "id": "b565825e",
   "metadata": {},
   "outputs": [],
   "source": []
  },
  {
   "cell_type": "markdown",
   "id": "09665cb0",
   "metadata": {},
   "source": [
    "17 . What is the difference between a node and a leaf in a decision tree?"
   ]
  },
  {
   "cell_type": "code",
   "execution_count": null,
   "id": "9df71741",
   "metadata": {},
   "outputs": [],
   "source": []
  },
  {
   "cell_type": "markdown",
   "id": "2df3993b",
   "metadata": {},
   "source": [
    "18 . What is a decision tree&#39;s entropy?"
   ]
  },
  {
   "cell_type": "code",
   "execution_count": null,
   "id": "1942abf3",
   "metadata": {},
   "outputs": [],
   "source": []
  },
  {
   "cell_type": "markdown",
   "id": "e43c973d",
   "metadata": {},
   "source": [
    "19 . In a decision tree, define knowledge gain."
   ]
  },
  {
   "cell_type": "code",
   "execution_count": null,
   "id": "c4e5de02",
   "metadata": {},
   "outputs": [],
   "source": []
  },
  {
   "cell_type": "markdown",
   "id": "c0f72265",
   "metadata": {},
   "source": [
    "20 . Choose three advantages of the decision tree approach and write them down."
   ]
  },
  {
   "cell_type": "code",
   "execution_count": null,
   "id": "075a5326",
   "metadata": {},
   "outputs": [],
   "source": []
  },
  {
   "cell_type": "markdown",
   "id": "1f847ecd",
   "metadata": {},
   "source": [
    "21 . Make a list of three flaws in the decision tree process."
   ]
  },
  {
   "cell_type": "code",
   "execution_count": null,
   "id": "ce8a42c1",
   "metadata": {},
   "outputs": [],
   "source": []
  },
  {
   "cell_type": "markdown",
   "id": "76e78b7b",
   "metadata": {},
   "source": [
    "22 . Briefly describe the random forest model."
   ]
  },
  {
   "cell_type": "code",
   "execution_count": null,
   "id": "d547075b",
   "metadata": {},
   "outputs": [],
   "source": []
  },
  {
   "cell_type": "code",
   "execution_count": null,
   "id": "0fcfd117",
   "metadata": {},
   "outputs": [],
   "source": []
  }
 ],
 "metadata": {
  "kernelspec": {
   "display_name": "Python 3 (ipykernel)",
   "language": "python",
   "name": "python3"
  },
  "language_info": {
   "codemirror_mode": {
    "name": "ipython",
    "version": 3
   },
   "file_extension": ".py",
   "mimetype": "text/x-python",
   "name": "python",
   "nbconvert_exporter": "python",
   "pygments_lexer": "ipython3",
   "version": "3.9.7"
  }
 },
 "nbformat": 4,
 "nbformat_minor": 5
}
