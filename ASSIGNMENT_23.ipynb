{
 "cells": [
  {
   "cell_type": "markdown",
   "id": "fb7df3a1",
   "metadata": {},
   "source": [
    "1 . What are the key reasons for reducing the dimensionality of a dataset? What are the major\n",
    "disadvantages?"
   ]
  },
  {
   "cell_type": "code",
   "execution_count": null,
   "id": "f6074007",
   "metadata": {},
   "outputs": [],
   "source": []
  },
  {
   "cell_type": "markdown",
   "id": "b974081a",
   "metadata": {},
   "source": [
    "2 . What is the dimensionality curse?"
   ]
  },
  {
   "cell_type": "code",
   "execution_count": null,
   "id": "6b8e6afb",
   "metadata": {},
   "outputs": [],
   "source": []
  },
  {
   "cell_type": "markdown",
   "id": "688c33bf",
   "metadata": {},
   "source": [
    "3 . Tell if its possible to reverse the process of reducing the dimensionality of a dataset? If so, how\n",
    "can you go about doing it? If not, what is the reason?"
   ]
  },
  {
   "cell_type": "code",
   "execution_count": null,
   "id": "6beca544",
   "metadata": {},
   "outputs": [],
   "source": []
  },
  {
   "cell_type": "markdown",
   "id": "80e03f64",
   "metadata": {},
   "source": [
    "4 . Can PCA be utilized to reduce the dimensionality of a nonlinear dataset with a lot of variables?"
   ]
  },
  {
   "cell_type": "code",
   "execution_count": null,
   "id": "448ee7b1",
   "metadata": {},
   "outputs": [],
   "source": []
  },
  {
   "cell_type": "markdown",
   "id": "25fefd10",
   "metadata": {},
   "source": [
    "5 . Assume you&#39;re running PCA on a 1,000-dimensional dataset with a 95 percent explained variance\n",
    "ratio. What is the number of dimensions that the resulting dataset would have?"
   ]
  },
  {
   "cell_type": "code",
   "execution_count": null,
   "id": "5ced18b7",
   "metadata": {},
   "outputs": [],
   "source": []
  },
  {
   "cell_type": "markdown",
   "id": "0b5e0a7f",
   "metadata": {},
   "source": [
    "6 . Will you use vanilla PCA, incremental PCA, randomized PCA, or kernel PCA in which situations?"
   ]
  },
  {
   "cell_type": "code",
   "execution_count": null,
   "id": "42c027ac",
   "metadata": {},
   "outputs": [],
   "source": []
  },
  {
   "cell_type": "markdown",
   "id": "e26d9061",
   "metadata": {},
   "source": [
    "7 . How do you assess a dimensionality reduction algorithm&#39;s success on your dataset?"
   ]
  },
  {
   "cell_type": "code",
   "execution_count": null,
   "id": "6dc9d760",
   "metadata": {},
   "outputs": [],
   "source": []
  },
  {
   "cell_type": "markdown",
   "id": "9b103f60",
   "metadata": {},
   "source": [
    "8 . Is it logical to use two different dimensionality reduction algorithms in a chain?"
   ]
  },
  {
   "cell_type": "code",
   "execution_count": null,
   "id": "44765978",
   "metadata": {},
   "outputs": [],
   "source": []
  }
 ],
 "metadata": {
  "kernelspec": {
   "display_name": "Python 3 (ipykernel)",
   "language": "python",
   "name": "python3"
  },
  "language_info": {
   "codemirror_mode": {
    "name": "ipython",
    "version": 3
   },
   "file_extension": ".py",
   "mimetype": "text/x-python",
   "name": "python",
   "nbconvert_exporter": "python",
   "pygments_lexer": "ipython3",
   "version": "3.9.7"
  }
 },
 "nbformat": 4,
 "nbformat_minor": 5
}
