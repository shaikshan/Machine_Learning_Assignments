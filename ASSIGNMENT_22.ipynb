{
 "cells": [
  {
   "cell_type": "markdown",
   "id": "7af109a2",
   "metadata": {},
   "source": [
    "1 . Is there any way to combine five different models that have all been trained on the same training\n",
    "data and have all achieved 95 percent precision? If so, how can you go about doing it? If not, what is\n",
    "the reason?"
   ]
  },
  {
   "cell_type": "code",
   "execution_count": null,
   "id": "66a9b8fc",
   "metadata": {},
   "outputs": [],
   "source": []
  },
  {
   "cell_type": "markdown",
   "id": "5bd7e097",
   "metadata": {},
   "source": [
    "2 . What&#39;s the difference between hard voting classifiers and soft voting classifiers?"
   ]
  },
  {
   "cell_type": "code",
   "execution_count": null,
   "id": "4b653d1b",
   "metadata": {},
   "outputs": [],
   "source": []
  },
  {
   "cell_type": "markdown",
   "id": "5b6fad90",
   "metadata": {},
   "source": [
    "3 . Is it possible to distribute a bagging ensemble&#39;s training through several servers to speed up the\n",
    "process? Pasting ensembles, boosting ensembles, Random Forests, and stacking ensembles are all\n",
    "options."
   ]
  },
  {
   "cell_type": "code",
   "execution_count": null,
   "id": "3c8effd6",
   "metadata": {},
   "outputs": [],
   "source": []
  },
  {
   "cell_type": "markdown",
   "id": "853e85a2",
   "metadata": {},
   "source": [
    "4 . What is the advantage of evaluating out of the bag?"
   ]
  },
  {
   "cell_type": "code",
   "execution_count": null,
   "id": "fab87a03",
   "metadata": {},
   "outputs": [],
   "source": []
  },
  {
   "cell_type": "markdown",
   "id": "62269ba2",
   "metadata": {},
   "source": [
    "5 . What distinguishes Extra-Trees from ordinary Random Forests? What good would this extra\n",
    "randomness do? Is it true that Extra-Tree Random Forests are slower or faster than normal Random\n",
    "Forests?"
   ]
  },
  {
   "cell_type": "code",
   "execution_count": null,
   "id": "563dda21",
   "metadata": {},
   "outputs": [],
   "source": []
  },
  {
   "cell_type": "markdown",
   "id": "d5236e2b",
   "metadata": {},
   "source": [
    "6 . Which hyperparameters and how do you tweak if your AdaBoost ensemble underfits the training\n",
    "data?"
   ]
  },
  {
   "cell_type": "code",
   "execution_count": null,
   "id": "c09b4667",
   "metadata": {},
   "outputs": [],
   "source": []
  },
  {
   "cell_type": "markdown",
   "id": "389c638d",
   "metadata": {},
   "source": [
    "7 . Should you raise or decrease the learning rate if your Gradient Boosting ensemble overfits the\n",
    "training set?"
   ]
  },
  {
   "cell_type": "code",
   "execution_count": null,
   "id": "561b233a",
   "metadata": {},
   "outputs": [],
   "source": []
  },
  {
   "cell_type": "code",
   "execution_count": null,
   "id": "59707f66",
   "metadata": {},
   "outputs": [],
   "source": []
  }
 ],
 "metadata": {
  "kernelspec": {
   "display_name": "Python 3 (ipykernel)",
   "language": "python",
   "name": "python3"
  },
  "language_info": {
   "codemirror_mode": {
    "name": "ipython",
    "version": 3
   },
   "file_extension": ".py",
   "mimetype": "text/x-python",
   "name": "python",
   "nbconvert_exporter": "python",
   "pygments_lexer": "ipython3",
   "version": "3.9.7"
  }
 },
 "nbformat": 4,
 "nbformat_minor": 5
}
