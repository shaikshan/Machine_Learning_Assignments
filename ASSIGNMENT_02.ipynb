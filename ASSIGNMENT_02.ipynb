{
 "cells": [
  {
   "cell_type": "markdown",
   "id": "d26d409f",
   "metadata": {},
   "source": [
    "1 . What is the concept of human learning? Please give two examples."
   ]
  },
  {
   "cell_type": "code",
   "execution_count": null,
   "id": "1fd1631a",
   "metadata": {},
   "outputs": [],
   "source": []
  },
  {
   "cell_type": "markdown",
   "id": "90768a87",
   "metadata": {},
   "source": [
    "2 . What different forms of human learning are there? Are there any machine learning equivalents?"
   ]
  },
  {
   "cell_type": "code",
   "execution_count": null,
   "id": "a626640f",
   "metadata": {},
   "outputs": [],
   "source": []
  },
  {
   "cell_type": "markdown",
   "id": "15b3e328",
   "metadata": {},
   "source": [
    "3 . What is machine learning, and how does it work? What are the key responsibilities of machine\n",
    "learning?"
   ]
  },
  {
   "cell_type": "code",
   "execution_count": null,
   "id": "84ebbc62",
   "metadata": {},
   "outputs": [],
   "source": []
  },
  {
   "cell_type": "markdown",
   "id": "c180eba5",
   "metadata": {},
   "source": [
    "4 . Define the terms &quot;penalty&quot; and &quot;reward&quot; in the context of reinforcement learning."
   ]
  },
  {
   "cell_type": "code",
   "execution_count": null,
   "id": "6d43a2ed",
   "metadata": {},
   "outputs": [],
   "source": []
  },
  {
   "cell_type": "markdown",
   "id": "5fc54a01",
   "metadata": {},
   "source": [
    "5 . Explain the term &quot;learning as a search&quot;?"
   ]
  },
  {
   "cell_type": "code",
   "execution_count": null,
   "id": "cdc57dd0",
   "metadata": {},
   "outputs": [],
   "source": []
  },
  {
   "cell_type": "markdown",
   "id": "1f09c31d",
   "metadata": {},
   "source": [
    "6 . What are the various goals of machine learning? What is the relationship between these and\n",
    "human learning?"
   ]
  },
  {
   "cell_type": "code",
   "execution_count": null,
   "id": "2ededa08",
   "metadata": {},
   "outputs": [],
   "source": []
  },
  {
   "cell_type": "markdown",
   "id": "dc0805c5",
   "metadata": {},
   "source": [
    "7 . Illustrate the various elements of machine learning using a real-life illustration."
   ]
  },
  {
   "cell_type": "code",
   "execution_count": null,
   "id": "780de492",
   "metadata": {},
   "outputs": [],
   "source": []
  },
  {
   "cell_type": "markdown",
   "id": "fb211c87",
   "metadata": {},
   "source": [
    "8 . Provide an example of the abstraction method."
   ]
  },
  {
   "cell_type": "code",
   "execution_count": null,
   "id": "77b86bfd",
   "metadata": {},
   "outputs": [],
   "source": []
  },
  {
   "cell_type": "markdown",
   "id": "d613678e",
   "metadata": {},
   "source": [
    "9 . What is the concept of generalization? What function does it play in the machine learning\n",
    "process?"
   ]
  },
  {
   "cell_type": "code",
   "execution_count": null,
   "id": "94a7e531",
   "metadata": {},
   "outputs": [],
   "source": []
  },
  {
   "cell_type": "markdown",
   "id": "4c7bb1f3",
   "metadata": {},
   "source": [
    "10 . What is classification, exactly? What are the main distinctions between classification and regression?"
   ]
  },
  {
   "cell_type": "code",
   "execution_count": null,
   "id": "9ce879e3",
   "metadata": {},
   "outputs": [],
   "source": []
  },
  {
   "cell_type": "markdown",
   "id": "0eeebc39",
   "metadata": {},
   "source": [
    "11 . What is regression, and how does it work? Give an example of a real-world problem that was\n",
    "solved using regression."
   ]
  },
  {
   "cell_type": "code",
   "execution_count": null,
   "id": "62760fad",
   "metadata": {},
   "outputs": [],
   "source": []
  },
  {
   "cell_type": "markdown",
   "id": "4991ceff",
   "metadata": {},
   "source": [
    "12 . Describe the clustering mechanism in detail."
   ]
  },
  {
   "cell_type": "code",
   "execution_count": null,
   "id": "809da25c",
   "metadata": {},
   "outputs": [],
   "source": []
  },
  {
   "cell_type": "markdown",
   "id": "c8ad4e6b",
   "metadata": {},
   "source": [
    "13 . Make brief observations on two of the following topics:\n",
    "\n",
    "`i. Machine learning algorithms are used`\n",
    "\n",
    "`ii. Studying under supervision`\n",
    "\n",
    "`iii. Studying without supervision`\n",
    "\n",
    "`iv. Reinforcement learning is a form of learning based on positive reinforcement.`"
   ]
  },
  {
   "cell_type": "code",
   "execution_count": null,
   "id": "0524fbaf",
   "metadata": {},
   "outputs": [],
   "source": []
  }
 ],
 "metadata": {
  "kernelspec": {
   "display_name": "Python 3 (ipykernel)",
   "language": "python",
   "name": "python3"
  },
  "language_info": {
   "codemirror_mode": {
    "name": "ipython",
    "version": 3
   },
   "file_extension": ".py",
   "mimetype": "text/x-python",
   "name": "python",
   "nbconvert_exporter": "python",
   "pygments_lexer": "ipython3",
   "version": "3.9.7"
  }
 },
 "nbformat": 4,
 "nbformat_minor": 5
}
