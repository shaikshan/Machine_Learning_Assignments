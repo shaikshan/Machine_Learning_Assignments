{
 "cells": [
  {
   "cell_type": "markdown",
   "id": "8516e7eb",
   "metadata": {},
   "source": [
    "1 . What is prior probability? Give an example."
   ]
  },
  {
   "cell_type": "code",
   "execution_count": null,
   "id": "57d7ddd6",
   "metadata": {},
   "outputs": [],
   "source": []
  },
  {
   "cell_type": "markdown",
   "id": "7039806a",
   "metadata": {},
   "source": [
    "2 . What is posterior probability? Give an example."
   ]
  },
  {
   "cell_type": "code",
   "execution_count": null,
   "id": "18cb70a4",
   "metadata": {},
   "outputs": [],
   "source": []
  },
  {
   "cell_type": "markdown",
   "id": "da9cd6ad",
   "metadata": {},
   "source": [
    "3 . What is likelihood probability? Give an example."
   ]
  },
  {
   "cell_type": "code",
   "execution_count": null,
   "id": "d52b8e02",
   "metadata": {},
   "outputs": [],
   "source": []
  },
  {
   "cell_type": "markdown",
   "id": "9a117175",
   "metadata": {},
   "source": [
    "4 . What is Naïve Bayes classifier? Why is it named so?"
   ]
  },
  {
   "cell_type": "code",
   "execution_count": null,
   "id": "52b34ada",
   "metadata": {},
   "outputs": [],
   "source": []
  },
  {
   "cell_type": "markdown",
   "id": "3dba14eb",
   "metadata": {},
   "source": [
    "5 . What is optimal Bayes classifier?"
   ]
  },
  {
   "cell_type": "code",
   "execution_count": null,
   "id": "392c2340",
   "metadata": {},
   "outputs": [],
   "source": []
  },
  {
   "cell_type": "markdown",
   "id": "6ce4d36d",
   "metadata": {},
   "source": [
    "6 . Write any two features of Bayesian learning methods."
   ]
  },
  {
   "cell_type": "code",
   "execution_count": null,
   "id": "a82cb708",
   "metadata": {},
   "outputs": [],
   "source": []
  },
  {
   "cell_type": "markdown",
   "id": "3103fca5",
   "metadata": {},
   "source": [
    "7 . Define the concept of consistent learners."
   ]
  },
  {
   "cell_type": "code",
   "execution_count": null,
   "id": "473bc4ce",
   "metadata": {},
   "outputs": [],
   "source": []
  },
  {
   "cell_type": "markdown",
   "id": "16836981",
   "metadata": {},
   "source": [
    "8 . Write any two strengths of Bayes classifier."
   ]
  },
  {
   "cell_type": "code",
   "execution_count": null,
   "id": "40ee2324",
   "metadata": {},
   "outputs": [],
   "source": []
  },
  {
   "cell_type": "markdown",
   "id": "1f0d6119",
   "metadata": {},
   "source": [
    "9 . Write any two weaknesses of Bayes classifier."
   ]
  },
  {
   "cell_type": "code",
   "execution_count": null,
   "id": "c4013769",
   "metadata": {},
   "outputs": [],
   "source": []
  },
  {
   "cell_type": "markdown",
   "id": "406a6c9e",
   "metadata": {},
   "source": [
    "10 . Explain how Naïve Bayes classifier is used for\n",
    "\n",
    "`1. Text classification`\n",
    "\n",
    "`2. Spam filtering`\n",
    "\n",
    "`3. Market sentiment analysis`"
   ]
  },
  {
   "cell_type": "code",
   "execution_count": null,
   "id": "f3a87945",
   "metadata": {},
   "outputs": [],
   "source": []
  },
  {
   "cell_type": "code",
   "execution_count": null,
   "id": "64fa1a9e",
   "metadata": {},
   "outputs": [],
   "source": []
  }
 ],
 "metadata": {
  "kernelspec": {
   "display_name": "Python 3 (ipykernel)",
   "language": "python",
   "name": "python3"
  },
  "language_info": {
   "codemirror_mode": {
    "name": "ipython",
    "version": 3
   },
   "file_extension": ".py",
   "mimetype": "text/x-python",
   "name": "python",
   "nbconvert_exporter": "python",
   "pygments_lexer": "ipython3",
   "version": "3.9.7"
  }
 },
 "nbformat": 4,
 "nbformat_minor": 5
}
