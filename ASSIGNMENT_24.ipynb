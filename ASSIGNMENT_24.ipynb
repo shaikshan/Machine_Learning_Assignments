{
 "cells": [
  {
   "cell_type": "markdown",
   "id": "281cf668",
   "metadata": {},
   "source": [
    "1 . What is your definition of clustering? What are a few clustering algorithms you might think of?"
   ]
  },
  {
   "cell_type": "code",
   "execution_count": null,
   "id": "d21ec5e7",
   "metadata": {},
   "outputs": [],
   "source": []
  },
  {
   "cell_type": "markdown",
   "id": "0d20330e",
   "metadata": {},
   "source": [
    "2 . What are some of the most popular clustering algorithm applications?"
   ]
  },
  {
   "cell_type": "code",
   "execution_count": null,
   "id": "3eaa21ac",
   "metadata": {},
   "outputs": [],
   "source": []
  },
  {
   "cell_type": "markdown",
   "id": "966de289",
   "metadata": {},
   "source": [
    "3 . When using K-Means, describe two strategies for selecting the appropriate number of clusters."
   ]
  },
  {
   "cell_type": "code",
   "execution_count": null,
   "id": "3ab6b9c5",
   "metadata": {},
   "outputs": [],
   "source": []
  },
  {
   "cell_type": "markdown",
   "id": "88786ab0",
   "metadata": {},
   "source": [
    "4 . What is mark propagation and how does it work? Why would you do it, and how would you do it?"
   ]
  },
  {
   "cell_type": "code",
   "execution_count": null,
   "id": "18ebdc8a",
   "metadata": {},
   "outputs": [],
   "source": []
  },
  {
   "cell_type": "markdown",
   "id": "3ee21010",
   "metadata": {},
   "source": [
    "5 . Provide two examples of clustering algorithms that can handle large datasets. And two that look\n",
    "for high-density areas?"
   ]
  },
  {
   "cell_type": "code",
   "execution_count": null,
   "id": "f97477df",
   "metadata": {},
   "outputs": [],
   "source": []
  },
  {
   "cell_type": "markdown",
   "id": "020709a0",
   "metadata": {},
   "source": [
    "6 . Can you think of a scenario in which constructive learning will be advantageous? How can you go\n",
    "about putting it into action?"
   ]
  },
  {
   "cell_type": "code",
   "execution_count": null,
   "id": "de036f69",
   "metadata": {},
   "outputs": [],
   "source": []
  },
  {
   "cell_type": "markdown",
   "id": "72453d8e",
   "metadata": {},
   "source": [
    "7 . How do you tell the difference between anomaly and novelty detection?"
   ]
  },
  {
   "cell_type": "code",
   "execution_count": null,
   "id": "85aaceec",
   "metadata": {},
   "outputs": [],
   "source": []
  },
  {
   "cell_type": "markdown",
   "id": "d0b691d0",
   "metadata": {},
   "source": [
    "8 . What is a Gaussian mixture, and how does it work? What are some of the things you can do about\n",
    "it?"
   ]
  },
  {
   "cell_type": "code",
   "execution_count": null,
   "id": "ea824ff2",
   "metadata": {},
   "outputs": [],
   "source": []
  },
  {
   "cell_type": "markdown",
   "id": "b0d378bf",
   "metadata": {},
   "source": [
    "9 . When using a Gaussian mixture model, can you name two techniques for determining the correct\n",
    "number of clusters?"
   ]
  },
  {
   "cell_type": "code",
   "execution_count": null,
   "id": "0aef6091",
   "metadata": {},
   "outputs": [],
   "source": []
  }
 ],
 "metadata": {
  "kernelspec": {
   "display_name": "Python 3 (ipykernel)",
   "language": "python",
   "name": "python3"
  },
  "language_info": {
   "codemirror_mode": {
    "name": "ipython",
    "version": 3
   },
   "file_extension": ".py",
   "mimetype": "text/x-python",
   "name": "python",
   "nbconvert_exporter": "python",
   "pygments_lexer": "ipython3",
   "version": "3.9.7"
  }
 },
 "nbformat": 4,
 "nbformat_minor": 5
}
