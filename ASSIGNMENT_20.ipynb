{
 "cells": [
  {
   "cell_type": "markdown",
   "id": "439c60a3",
   "metadata": {},
   "source": [
    "1 . What is the underlying concept of Support Vector Machines?"
   ]
  },
  {
   "cell_type": "code",
   "execution_count": null,
   "id": "f5b8c8e7",
   "metadata": {},
   "outputs": [],
   "source": []
  },
  {
   "cell_type": "markdown",
   "id": "a2aa53a9",
   "metadata": {},
   "source": [
    "2 . What is the concept of a support vector?"
   ]
  },
  {
   "cell_type": "code",
   "execution_count": null,
   "id": "a2712787",
   "metadata": {},
   "outputs": [],
   "source": []
  },
  {
   "cell_type": "markdown",
   "id": "f0cf8c71",
   "metadata": {},
   "source": [
    "3 . When using SVMs, why is it necessary to scale the inputs?"
   ]
  },
  {
   "cell_type": "code",
   "execution_count": null,
   "id": "45938789",
   "metadata": {},
   "outputs": [],
   "source": []
  },
  {
   "cell_type": "markdown",
   "id": "fee09960",
   "metadata": {},
   "source": [
    "4 . When an SVM classifier classifies a case, can it output a confidence score? What about a\n",
    "percentage chance?"
   ]
  },
  {
   "cell_type": "code",
   "execution_count": null,
   "id": "8c0c3ac5",
   "metadata": {},
   "outputs": [],
   "source": []
  },
  {
   "cell_type": "markdown",
   "id": "299de7fb",
   "metadata": {},
   "source": [
    "5 . Should you train a model on a training set with millions of instances and hundreds of features\n",
    "using the primal or dual form of the SVM problem?"
   ]
  },
  {
   "cell_type": "code",
   "execution_count": null,
   "id": "5609af39",
   "metadata": {},
   "outputs": [],
   "source": []
  },
  {
   "cell_type": "markdown",
   "id": "633bf5d6",
   "metadata": {},
   "source": [
    "6 . Let&#39;s say you&#39;ve used an RBF kernel to train an SVM classifier, but it appears to underfit the\n",
    "training collection. Is it better to raise or lower (gamma)? What about the letter C?"
   ]
  },
  {
   "cell_type": "code",
   "execution_count": null,
   "id": "7577275d",
   "metadata": {},
   "outputs": [],
   "source": []
  },
  {
   "cell_type": "markdown",
   "id": "6383daa6",
   "metadata": {},
   "source": [
    "7 . To solve the soft margin linear SVM classifier problem with an off-the-shelf QP solver, how should\n",
    "the QP parameters (H, f, A, and b) be set?"
   ]
  },
  {
   "cell_type": "code",
   "execution_count": null,
   "id": "9bed0d13",
   "metadata": {},
   "outputs": [],
   "source": []
  },
  {
   "cell_type": "markdown",
   "id": "a7e91cba",
   "metadata": {},
   "source": [
    "8 . On a linearly separable dataset, train a LinearSVC. Then, using the same dataset, train an SVC and\n",
    "an SGDClassifier. See if you can get them to make a model that is similar to yours."
   ]
  },
  {
   "cell_type": "code",
   "execution_count": null,
   "id": "6c88e6a9",
   "metadata": {},
   "outputs": [],
   "source": []
  },
  {
   "cell_type": "markdown",
   "id": "4bb2402a",
   "metadata": {},
   "source": [
    "9 . On the MNIST dataset, train an SVM classifier. You&#39;ll need to use one-versus-the-rest to assign all\n",
    "10 digits because SVM classifiers are binary classifiers. To accelerate up the process, you might want\n",
    "to tune the hyperparameters using small validation sets. What level of precision can you achieve?"
   ]
  },
  {
   "cell_type": "code",
   "execution_count": null,
   "id": "a0058d13",
   "metadata": {},
   "outputs": [],
   "source": []
  },
  {
   "cell_type": "markdown",
   "id": "23b7dc55",
   "metadata": {},
   "source": [
    "10 . On the California housing dataset, train an SVM regressor."
   ]
  },
  {
   "cell_type": "code",
   "execution_count": null,
   "id": "bd5f4e48",
   "metadata": {},
   "outputs": [],
   "source": []
  }
 ],
 "metadata": {
  "kernelspec": {
   "display_name": "Python 3 (ipykernel)",
   "language": "python",
   "name": "python3"
  },
  "language_info": {
   "codemirror_mode": {
    "name": "ipython",
    "version": 3
   },
   "file_extension": ".py",
   "mimetype": "text/x-python",
   "name": "python",
   "nbconvert_exporter": "python",
   "pygments_lexer": "ipython3",
   "version": "3.9.7"
  }
 },
 "nbformat": 4,
 "nbformat_minor": 5
}
