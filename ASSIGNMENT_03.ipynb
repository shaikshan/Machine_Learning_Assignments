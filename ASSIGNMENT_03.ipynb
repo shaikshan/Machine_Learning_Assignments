{
 "cells": [
  {
   "cell_type": "markdown",
   "id": "cf5df0f5",
   "metadata": {},
   "source": [
    "1 . Explain the term machine learning, and how does it work? Explain two machine learning\n",
    "applications in the business world. What are some of the ethical concerns that machine learning\n",
    "applications could raise?"
   ]
  },
  {
   "cell_type": "code",
   "execution_count": null,
   "id": "cd11e914",
   "metadata": {},
   "outputs": [],
   "source": []
  },
  {
   "cell_type": "markdown",
   "id": "5ffc8873",
   "metadata": {},
   "source": [
    "2 . Describe the process of human learning:\n",
    "\n",
    "`i. Under the supervision of experts`\n",
    "\n",
    "`ii. With the assistance of experts in an indirect manner`\n",
    "\n",
    "`iii. Self-education`"
   ]
  },
  {
   "cell_type": "code",
   "execution_count": null,
   "id": "ea087bb2",
   "metadata": {},
   "outputs": [],
   "source": []
  },
  {
   "cell_type": "markdown",
   "id": "eab436c8",
   "metadata": {},
   "source": [
    "3 . Provide a few examples of various types of machine learning."
   ]
  },
  {
   "cell_type": "code",
   "execution_count": null,
   "id": "7a522849",
   "metadata": {},
   "outputs": [],
   "source": []
  },
  {
   "cell_type": "markdown",
   "id": "26465c93",
   "metadata": {},
   "source": [
    "4 . Examine the various forms of machine learning."
   ]
  },
  {
   "cell_type": "code",
   "execution_count": null,
   "id": "21a10f45",
   "metadata": {},
   "outputs": [],
   "source": []
  },
  {
   "cell_type": "markdown",
   "id": "68b2ece5",
   "metadata": {},
   "source": [
    "5 . Can you explain what a well-posed learning problem is? Explain the main characteristics that must\n",
    "be present to identify a learning problem properly."
   ]
  },
  {
   "cell_type": "code",
   "execution_count": null,
   "id": "1705484c",
   "metadata": {},
   "outputs": [],
   "source": []
  },
  {
   "cell_type": "markdown",
   "id": "a9fc2cb6",
   "metadata": {},
   "source": [
    "6 . Is machine learning capable of solving all problems? Give a detailed explanation of your answer."
   ]
  },
  {
   "cell_type": "code",
   "execution_count": null,
   "id": "db8056cf",
   "metadata": {},
   "outputs": [],
   "source": []
  },
  {
   "cell_type": "markdown",
   "id": "d12f27a0",
   "metadata": {},
   "source": [
    "7 . What are the various methods and technologies for solving machine learning problems? Any two\n",
    "of them should be defined in detail."
   ]
  },
  {
   "cell_type": "code",
   "execution_count": null,
   "id": "b646370c",
   "metadata": {},
   "outputs": [],
   "source": []
  },
  {
   "cell_type": "markdown",
   "id": "613eea57",
   "metadata": {},
   "source": [
    "8 . Can you explain the various forms of supervised learning? Explain each one with an example\n",
    "application."
   ]
  },
  {
   "cell_type": "code",
   "execution_count": null,
   "id": "09902f1f",
   "metadata": {},
   "outputs": [],
   "source": []
  },
  {
   "cell_type": "markdown",
   "id": "98e01909",
   "metadata": {},
   "source": [
    "9 . What is the difference between supervised and unsupervised learning? With a sample application\n",
    "in each region, explain the differences."
   ]
  },
  {
   "cell_type": "code",
   "execution_count": null,
   "id": "8e56c04f",
   "metadata": {},
   "outputs": [],
   "source": []
  },
  {
   "cell_type": "markdown",
   "id": "dbc24ef9",
   "metadata": {},
   "source": [
    "10 . Describe the machine learning process in depth.\n",
    "\n",
    "`a. Make brief notes on any two of the following:`\n",
    "\n",
    "`MATLAB is one of the most widely used programming languages.`\n",
    "\n",
    "`ii. Deep learning applications in healthcare`\n",
    "\n",
    "`iii. Study of the market basket`\n",
    "\n",
    "`iv. Linear regression (simple)`"
   ]
  },
  {
   "cell_type": "code",
   "execution_count": null,
   "id": "79989830",
   "metadata": {},
   "outputs": [],
   "source": []
  },
  {
   "cell_type": "markdown",
   "id": "aee35948",
   "metadata": {},
   "source": [
    "11 . Make a comparison between:-\n",
    "\n",
    "`1 . Generalization and abstraction`\n",
    "\n",
    "`2 . Learning that is guided and unsupervised`\n",
    "\n",
    "`3 . Regression and classification`"
   ]
  },
  {
   "cell_type": "code",
   "execution_count": null,
   "id": "68feedb8",
   "metadata": {},
   "outputs": [],
   "source": []
  }
 ],
 "metadata": {
  "kernelspec": {
   "display_name": "Python 3 (ipykernel)",
   "language": "python",
   "name": "python3"
  },
  "language_info": {
   "codemirror_mode": {
    "name": "ipython",
    "version": 3
   },
   "file_extension": ".py",
   "mimetype": "text/x-python",
   "name": "python",
   "nbconvert_exporter": "python",
   "pygments_lexer": "ipython3",
   "version": "3.9.7"
  }
 },
 "nbformat": 4,
 "nbformat_minor": 5
}
